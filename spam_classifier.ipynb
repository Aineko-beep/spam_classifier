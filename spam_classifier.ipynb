{
 "cells": [
  {
   "cell_type": "code",
   "execution_count": null,
   "id": "485709d4",
   "metadata": {},
   "outputs": [
    {
     "data": {
      "text/html": [
       "<div>\n",
       "<style scoped>\n",
       "    .dataframe tbody tr th:only-of-type {\n",
       "        vertical-align: middle;\n",
       "    }\n",
       "\n",
       "    .dataframe tbody tr th {\n",
       "        vertical-align: top;\n",
       "    }\n",
       "\n",
       "    .dataframe thead th {\n",
       "        text-align: right;\n",
       "    }\n",
       "</style>\n",
       "<table border=\"1\" class=\"dataframe\">\n",
       "  <thead>\n",
       "    <tr style=\"text-align: right;\">\n",
       "      <th></th>\n",
       "      <th>text</th>\n",
       "      <th>label</th>\n",
       "    </tr>\n",
       "  </thead>\n",
       "  <tbody>\n",
       "    <tr>\n",
       "      <th>0</th>\n",
       "      <td>Subject: dobmeos with hgh my energy level has ...</td>\n",
       "      <td>spam</td>\n",
       "    </tr>\n",
       "    <tr>\n",
       "      <th>1</th>\n",
       "      <td>Subject: your prescription is ready . . oxwq s...</td>\n",
       "      <td>spam</td>\n",
       "    </tr>\n",
       "    <tr>\n",
       "      <th>2</th>\n",
       "      <td>Subject: get that new car 8434\\npeople nowthe ...</td>\n",
       "      <td>spam</td>\n",
       "    </tr>\n",
       "    <tr>\n",
       "      <th>3</th>\n",
       "      <td>Subject: await your response\\ndear partner ,\\n...</td>\n",
       "      <td>spam</td>\n",
       "    </tr>\n",
       "    <tr>\n",
       "      <th>4</th>\n",
       "      <td>Subject: coca cola , mbna america , nascar par...</td>\n",
       "      <td>spam</td>\n",
       "    </tr>\n",
       "  </tbody>\n",
       "</table>\n",
       "</div>"
      ],
      "text/plain": [
       "                                                text label\n",
       "0  Subject: dobmeos with hgh my energy level has ...  spam\n",
       "1  Subject: your prescription is ready . . oxwq s...  spam\n",
       "2  Subject: get that new car 8434\\npeople nowthe ...  spam\n",
       "3  Subject: await your response\\ndear partner ,\\n...  spam\n",
       "4  Subject: coca cola , mbna america , nascar par...  spam"
      ]
     },
     "execution_count": 2,
     "metadata": {},
     "output_type": "execute_result"
    }
   ],
   "source": [
    "import os\n",
    "import pandas as pd\n",
    "\n",
    "dataset_path = \"E:/ML_NLP/spam_ham_dataset\" \n",
    "\n",
    "data = []  \n",
    "\n",
    "# Проходим по папкам 1/ - 6/\n",
    "for folder in os.listdir(dataset_path):  \n",
    "    folder_path = os.path.join(dataset_path, folder)\n",
    "    \n",
    "    if os.path.isdir(folder_path):  \n",
    "        for label in ['spam', 'ham']: \n",
    "            label_path = os.path.join(folder_path, label)\n",
    "            \n",
    "            if os.path.isdir(label_path):  \n",
    "                for filename in os.listdir(label_path):  \n",
    "                    file_path = os.path.join(label_path, filename)\n",
    "                    try:\n",
    "                        with open(file_path, 'r', encoding='utf-8', errors='ignore') as f:\n",
    "                            text = f.read()  \n",
    "                            data.append({'text': text, 'label': label})  \n",
    "                    except Exception as e:\n",
    "                        print(f\"Ошибка с файлом {file_path}: {e}\")\n",
    "\n",
    "# Превращаем в DataFrame\n",
    "df = pd.DataFrame(data)  \n",
    "df.head()  \n"
   ]
  }
 ],
 "metadata": {
  "kernelspec": {
   "display_name": "base",
   "language": "python",
   "name": "python3"
  },
  "language_info": {
   "codemirror_mode": {
    "name": "ipython",
    "version": 3
   },
   "file_extension": ".py",
   "mimetype": "text/x-python",
   "name": "python",
   "nbconvert_exporter": "python",
   "pygments_lexer": "ipython3",
   "version": "3.12.7"
  }
 },
 "nbformat": 4,
 "nbformat_minor": 5
}
