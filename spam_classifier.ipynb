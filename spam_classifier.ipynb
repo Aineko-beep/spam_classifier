{
 "cells": [
  {
   "cell_type": "markdown",
   "id": "0833ba61",
   "metadata": {},
   "source": [
    "### Импорт библиотек"
   ]
  },
  {
   "cell_type": "code",
   "execution_count": null,
   "id": "6a1613b0",
   "metadata": {},
   "outputs": [
    {
     "name": "stdout",
     "output_type": "stream",
     "text": [
      "Requirement already satisfied: pandas in c:\\users\\catwa\\appdata\\local\\packages\\pythonsoftwarefoundation.python.3.11_qbz5n2kfra8p0\\localcache\\local-packages\\python311\\site-packages (2.2.3)\n",
      "Requirement already satisfied: numpy>=1.23.2 in c:\\users\\catwa\\appdata\\local\\packages\\pythonsoftwarefoundation.python.3.11_qbz5n2kfra8p0\\localcache\\local-packages\\python311\\site-packages (from pandas) (1.26.4)\n",
      "Requirement already satisfied: python-dateutil>=2.8.2 in c:\\users\\catwa\\appdata\\local\\packages\\pythonsoftwarefoundation.python.3.11_qbz5n2kfra8p0\\localcache\\local-packages\\python311\\site-packages (from pandas) (2.9.0.post0)\n",
      "Requirement already satisfied: pytz>=2020.1 in c:\\users\\catwa\\appdata\\local\\packages\\pythonsoftwarefoundation.python.3.11_qbz5n2kfra8p0\\localcache\\local-packages\\python311\\site-packages (from pandas) (2025.2)\n",
      "Requirement already satisfied: tzdata>=2022.7 in c:\\users\\catwa\\appdata\\local\\packages\\pythonsoftwarefoundation.python.3.11_qbz5n2kfra8p0\\localcache\\local-packages\\python311\\site-packages (from pandas) (2025.1)\n",
      "Requirement already satisfied: six>=1.5 in c:\\users\\catwa\\appdata\\local\\packages\\pythonsoftwarefoundation.python.3.11_qbz5n2kfra8p0\\localcache\\local-packages\\python311\\site-packages (from python-dateutil>=2.8.2->pandas) (1.17.0)\n",
      "Note: you may need to restart the kernel to use updated packages.\n"
     ]
    }
   ],
   "source": [
    "# ИМПОРТЫ И УСТАНОВКИ\n",
    "import os\n",
    "\n",
    "import pandas as pd\n",
    "import numpy as np\n",
    "import re\n",
    "import spacy\n",
    "\n",
    "from sklearn.feature_extraction.text import TfidfVectorizer\n",
    "from sklearn.model_selection import train_test_split\n",
    "\n",
    "nlp = spacy.load(\"en_core_web_sm\")"
   ]
  },
  {
   "cell_type": "markdown",
   "id": "d5dcb916",
   "metadata": {},
   "source": [
    "### Загрузка данных для обучения и тестирования"
   ]
  },
  {
   "cell_type": "code",
   "execution_count": 2,
   "id": "485709d4",
   "metadata": {},
   "outputs": [
    {
     "data": {
      "text/html": [
       "<div>\n",
       "<style scoped>\n",
       "    .dataframe tbody tr th:only-of-type {\n",
       "        vertical-align: middle;\n",
       "    }\n",
       "\n",
       "    .dataframe tbody tr th {\n",
       "        vertical-align: top;\n",
       "    }\n",
       "\n",
       "    .dataframe thead th {\n",
       "        text-align: right;\n",
       "    }\n",
       "</style>\n",
       "<table border=\"1\" class=\"dataframe\">\n",
       "  <thead>\n",
       "    <tr style=\"text-align: right;\">\n",
       "      <th></th>\n",
       "      <th>text</th>\n",
       "      <th>label</th>\n",
       "    </tr>\n",
       "  </thead>\n",
       "  <tbody>\n",
       "    <tr>\n",
       "      <th>0</th>\n",
       "      <td>Subject: dobmeos with hgh my energy level has ...</td>\n",
       "      <td>spam</td>\n",
       "    </tr>\n",
       "    <tr>\n",
       "      <th>1</th>\n",
       "      <td>Subject: your prescription is ready . . oxwq s...</td>\n",
       "      <td>spam</td>\n",
       "    </tr>\n",
       "    <tr>\n",
       "      <th>2</th>\n",
       "      <td>Subject: get that new car 8434\\npeople nowthe ...</td>\n",
       "      <td>spam</td>\n",
       "    </tr>\n",
       "    <tr>\n",
       "      <th>3</th>\n",
       "      <td>Subject: await your response\\ndear partner ,\\n...</td>\n",
       "      <td>spam</td>\n",
       "    </tr>\n",
       "    <tr>\n",
       "      <th>4</th>\n",
       "      <td>Subject: coca cola , mbna america , nascar par...</td>\n",
       "      <td>spam</td>\n",
       "    </tr>\n",
       "  </tbody>\n",
       "</table>\n",
       "</div>"
      ],
      "text/plain": [
       "                                                text label\n",
       "0  Subject: dobmeos with hgh my energy level has ...  spam\n",
       "1  Subject: your prescription is ready . . oxwq s...  spam\n",
       "2  Subject: get that new car 8434\\npeople nowthe ...  spam\n",
       "3  Subject: await your response\\ndear partner ,\\n...  spam\n",
       "4  Subject: coca cola , mbna america , nascar par...  spam"
      ]
     },
     "execution_count": 2,
     "metadata": {},
     "output_type": "execute_result"
    }
   ],
   "source": [
    "dataset_path = \"E:/ML_NLP/spam_ham_dataset\" \n",
    "\n",
    "data = []  \n",
    "\n",
    "# Проходим по папкам 1/ - 6/\n",
    "\n",
    "for folder in os.listdir(dataset_path):  \n",
    "    folder_path = os.path.join(dataset_path, folder)\n",
    "    \n",
    "    if os.path.isdir(folder_path):  \n",
    "        for label in ['spam', 'ham']: \n",
    "            label_path = os.path.join(folder_path, label)\n",
    "            \n",
    "            if os.path.isdir(label_path):  \n",
    "                for filename in os.listdir(label_path):  \n",
    "                    file_path = os.path.join(label_path, filename)\n",
    "                    try:\n",
    "                        with open(file_path, 'r', encoding='utf-8', errors='ignore') as f:\n",
    "                            text = f.read()  \n",
    "                            data.append({'text': text, 'label': label})  \n",
    "                    except Exception as e:\n",
    "                        print(f\"Ошибка с файлом {file_path}: {e}\")\n",
    "\n",
    "# Превращаем в DataFrame\n",
    "\n",
    "df = pd.DataFrame(data)  \n",
    "df.head()  \n"
   ]
  },
  {
   "cell_type": "markdown",
   "id": "eb246753",
   "metadata": {},
   "source": [
    "### Функция предобработки текста"
   ]
  },
  {
   "cell_type": "code",
   "execution_count": 3,
   "id": "43c3a872",
   "metadata": {},
   "outputs": [
    {
     "data": {
      "text/html": [
       "<div>\n",
       "<style scoped>\n",
       "    .dataframe tbody tr th:only-of-type {\n",
       "        vertical-align: middle;\n",
       "    }\n",
       "\n",
       "    .dataframe tbody tr th {\n",
       "        vertical-align: top;\n",
       "    }\n",
       "\n",
       "    .dataframe thead th {\n",
       "        text-align: right;\n",
       "    }\n",
       "</style>\n",
       "<table border=\"1\" class=\"dataframe\">\n",
       "  <thead>\n",
       "    <tr style=\"text-align: right;\">\n",
       "      <th></th>\n",
       "      <th>text</th>\n",
       "      <th>text_cleaned</th>\n",
       "    </tr>\n",
       "  </thead>\n",
       "  <tbody>\n",
       "    <tr>\n",
       "      <th>0</th>\n",
       "      <td>Subject: dobmeos with hgh my energy level has ...</td>\n",
       "      <td>dobmeo hgh energy level go stukm introduce doc...</td>\n",
       "    </tr>\n",
       "    <tr>\n",
       "      <th>1</th>\n",
       "      <td>Subject: your prescription is ready . . oxwq s...</td>\n",
       "      <td>prescription ready oxwq s f e low cost prescri...</td>\n",
       "    </tr>\n",
       "    <tr>\n",
       "      <th>2</th>\n",
       "      <td>Subject: get that new car 8434\\npeople nowthe ...</td>\n",
       "      <td>new car people nowthe weather climate particul...</td>\n",
       "    </tr>\n",
       "    <tr>\n",
       "      <th>3</th>\n",
       "      <td>Subject: await your response\\ndear partner ,\\n...</td>\n",
       "      <td>await response dear partner team government of...</td>\n",
       "    </tr>\n",
       "    <tr>\n",
       "      <th>4</th>\n",
       "      <td>Subject: coca cola , mbna america , nascar par...</td>\n",
       "      <td>coca cola mbna america nascar partner otcbb im...</td>\n",
       "    </tr>\n",
       "  </tbody>\n",
       "</table>\n",
       "</div>"
      ],
      "text/plain": [
       "                                                text  \\\n",
       "0  Subject: dobmeos with hgh my energy level has ...   \n",
       "1  Subject: your prescription is ready . . oxwq s...   \n",
       "2  Subject: get that new car 8434\\npeople nowthe ...   \n",
       "3  Subject: await your response\\ndear partner ,\\n...   \n",
       "4  Subject: coca cola , mbna america , nascar par...   \n",
       "\n",
       "                                        text_cleaned  \n",
       "0  dobmeo hgh energy level go stukm introduce doc...  \n",
       "1  prescription ready oxwq s f e low cost prescri...  \n",
       "2  new car people nowthe weather climate particul...  \n",
       "3  await response dear partner team government of...  \n",
       "4  coca cola mbna america nascar partner otcbb im...  "
      ]
     },
     "execution_count": 3,
     "metadata": {},
     "output_type": "execute_result"
    }
   ],
   "source": [
    "def preprocess_text(text):\n",
    "    # Удаление лишних символов и 'Subject:'\n",
    "    text = re.sub(r'\\s+', ' ', text)\n",
    "    text = re.sub(r\"[^a-zA-Z']\", ' ', text)\n",
    "    text = re.sub(r'^Subject\\s*:?[ ]*', '', text, flags=re.IGNORECASE)\n",
    "\n",
    "    # Приведение к нижнему регистру и spaCy-пайплайн\n",
    "    doc = nlp(text.lower())\n",
    "\n",
    "    # Удаление стоп-слов и лемматизация\n",
    "    tokens = [token.lemma_ for token in doc if not token.is_stop and token.is_alpha]\n",
    "    return ' '.join(tokens)\n",
    "\n",
    "# Применяем функцию к колонке с письмами\n",
    "df['text_cleaned'] = df['text'].apply(preprocess_text)\n",
    "\n",
    "# Быстрый просмотр результата\n",
    "df[['text', 'text_cleaned']].head()"
   ]
  },
  {
   "cell_type": "markdown",
   "id": "106559f0",
   "metadata": {},
   "source": [
    "### Векторизация очищенного текста"
   ]
  },
  {
   "cell_type": "code",
   "execution_count": 8,
   "id": "46073fe8",
   "metadata": {},
   "outputs": [],
   "source": [
    "# Векторизация очищенного текста\n",
    "vectorizer = TfidfVectorizer(max_features=3000)\n",
    "X = vectorizer.fit_transform(df['text_cleaned'])\n",
    "\n",
    "# Преобразование меток классов (ham → 0, spam → 1)\n",
    "y = df['label'].map({'ham': 0, 'spam': 1})"
   ]
  },
  {
   "cell_type": "markdown",
   "id": "340d673f",
   "metadata": {},
   "source": [
    "### Деление на обучающую и тестовую выборки"
   ]
  },
  {
   "cell_type": "code",
   "execution_count": 9,
   "id": "294788c4",
   "metadata": {},
   "outputs": [],
   "source": [
    "X_train, X_test, y_train, y_test = train_test_split(\n",
    "    X, y, test_size=0.2, random_state=42, stratify=y\n",
    ")"
   ]
  }
 ],
 "metadata": {
  "kernelspec": {
   "display_name": "Python 3",
   "language": "python",
   "name": "python3"
  },
  "language_info": {
   "codemirror_mode": {
    "name": "ipython",
    "version": 3
   },
   "file_extension": ".py",
   "mimetype": "text/x-python",
   "name": "python",
   "nbconvert_exporter": "python",
   "pygments_lexer": "ipython3",
   "version": "3.11.9"
  }
 },
 "nbformat": 4,
 "nbformat_minor": 5
}
