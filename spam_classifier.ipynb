{
 "cells": [
  {
   "cell_type": "markdown",
   "id": "eadcf54b",
   "metadata": {},
   "source": [
    "# Классификатор спам-писем"
   ]
  },
  {
   "cell_type": "markdown",
   "id": "0833ba61",
   "metadata": {},
   "source": [
    "## Импорт библиотек"
   ]
  },
  {
   "cell_type": "code",
   "execution_count": null,
   "id": "6a1613b0",
   "metadata": {},
   "outputs": [],
   "source": [
    "import os\n",
    "\n",
    "import pandas as pd\n",
    "import numpy as np\n",
    "import re\n",
    "import spacy\n",
    "import random\n",
    "\n",
    "from sklearn.feature_extraction.text import TfidfVectorizer\n",
    "from sklearn.model_selection import train_test_split\n",
    "\n",
    "from sklearn.linear_model import LogisticRegression\n",
    "from sklearn.naive_bayes import MultinomialNB\n",
    "from sklearn.ensemble import RandomForestClassifier\n",
    "from sklearn.svm import SVC\n",
    "from sklearn.neighbors import KNeighborsClassifier\n",
    "from sklearn.metrics import classification_report, confusion_matrix, roc_curve, auc\n",
    "\n",
    "import matplotlib.pyplot as plt\n",
    "import seaborn as sns\n",
    "\n",
    "nlp = spacy.load(\"en_core_web_sm\")"
   ]
  },
  {
   "cell_type": "markdown",
   "id": "d5dcb916",
   "metadata": {},
   "source": [
    "## Загрузка данных для обучения и тестирования"
   ]
  },
  {
   "cell_type": "code",
   "execution_count": null,
   "id": "485709d4",
   "metadata": {},
   "outputs": [],
   "source": [
    "dataset_path = \"E:/ML_NLP/spam_ham_dataset\" \n",
    "\n",
    "data = []  \n",
    "\n",
    "# Проходим по папкам 1/ - 6/\n",
    "\n",
    "for folder in os.listdir(dataset_path):  \n",
    "    folder_path = os.path.join(dataset_path, folder)\n",
    "    \n",
    "    if os.path.isdir(folder_path):  \n",
    "        for label in ['spam', 'ham']: \n",
    "            label_path = os.path.join(folder_path, label)\n",
    "            \n",
    "            if os.path.isdir(label_path):  \n",
    "                for filename in os.listdir(label_path):  \n",
    "                    file_path = os.path.join(label_path, filename)\n",
    "                    try:\n",
    "                        with open(file_path, 'r', encoding='utf-8', errors='ignore') as f:\n",
    "                            text = f.read()  \n",
    "                            data.append({'text': text, 'label': label})  \n",
    "                    except Exception as e:\n",
    "                        print(f\"Ошибка с файлом {file_path}: {e}\")\n",
    "\n",
    "# Превращаем в DataFrame\n",
    "\n",
    "df = pd.DataFrame(data)  \n",
    "df.head()  \n"
   ]
  },
  {
   "cell_type": "markdown",
   "id": "eb246753",
   "metadata": {},
   "source": [
    "## Функция предобработки текста"
   ]
  },
  {
   "cell_type": "code",
   "execution_count": null,
   "id": "43c3a872",
   "metadata": {},
   "outputs": [],
   "source": [
    "def preprocess_text(text):\n",
    "    text = re.sub(r'\\s+', ' ', text)\n",
    "    text = re.sub(r\"[^a-zA-Z']\", ' ', text)\n",
    "    text = re.sub(r'^Subject\\s*:?[ ]*', '', text, flags=re.IGNORECASE)\n",
    "\n",
    "    doc = nlp(text.lower())\n",
    "\n",
    "    tokens = [token.lemma_ for token in doc if not token.is_stop and token.is_alpha]\n",
    "    return ' '.join(tokens)\n",
    "\n",
    "df['text_cleaned'] = df['text'].apply(preprocess_text)\n",
    "df[['text', 'text_cleaned']].head()"
   ]
  },
  {
   "cell_type": "markdown",
   "id": "106559f0",
   "metadata": {},
   "source": [
    "## Векторизация очищенного текста"
   ]
  },
  {
   "cell_type": "code",
   "execution_count": null,
   "id": "46073fe8",
   "metadata": {},
   "outputs": [],
   "source": [
    "vectorizer = TfidfVectorizer(max_features=3000)\n",
    "X = vectorizer.fit_transform(df['text_cleaned'])\n",
    "\n",
    "y = df['label'].map({'ham': 0, 'spam': 1})"
   ]
  },
  {
   "cell_type": "markdown",
   "id": "340d673f",
   "metadata": {},
   "source": [
    "## Деление на обучающую и тестовую выборки"
   ]
  },
  {
   "cell_type": "code",
   "execution_count": null,
   "id": "294788c4",
   "metadata": {},
   "outputs": [],
   "source": [
    "X_train, X_test, y_train, y_test = train_test_split(X, y, test_size=0.2, random_state=42)"
   ]
  },
  {
   "cell_type": "markdown",
   "id": "ac289d5a",
   "metadata": {},
   "source": [
    "## Обучение моделей"
   ]
  },
  {
   "cell_type": "code",
   "execution_count": null,
   "id": "d6cac6e3",
   "metadata": {},
   "outputs": [],
   "source": [
    "models = {\n",
    "    \"Logistic Regression\": LogisticRegression(),\n",
    "    \"Naive Bayes\": MultinomialNB(),\n",
    "    \"Random Forest\": RandomForestClassifier(),\n",
    "    \"SVM\": SVC(probability=True),\n",
    "    \"KNN\": KNeighborsClassifier()\n",
    "}\n",
    "\n",
    "fitted_models = {}\n",
    "\n",
    "for name, model in models.items():\n",
    "    model.fit(X_train, y_train)\n",
    "    fitted_models[name] = model\n",
    "    print(f\"{name} обучена!\")\n"
   ]
  },
  {
   "cell_type": "markdown",
   "id": "0a6b05f3",
   "metadata": {},
   "source": [
    "## Оценка качаества моделей"
   ]
  },
  {
   "cell_type": "code",
   "execution_count": null,
   "id": "12423fde",
   "metadata": {},
   "outputs": [],
   "source": [
    "for name, model in fitted_models.items():\n",
    "    y_pred = model.predict(X_test)\n",
    "    print(f\"\\n--- {name} ---\")\n",
    "    print(classification_report(y_test, y_pred))"
   ]
  },
  {
   "cell_type": "markdown",
   "id": "de893056",
   "metadata": {},
   "source": [
    "## Визуализация результатов\n",
    "### Матрица ошибок"
   ]
  },
  {
   "cell_type": "code",
   "execution_count": null,
   "id": "40741f90",
   "metadata": {},
   "outputs": [],
   "source": [
    "def plot_conf_matrix(y_true, y_pred, model_name):\n",
    "    cm = confusion_matrix(y_true, y_pred)\n",
    "    plt.figure(figsize=(4, 3))\n",
    "    sns.heatmap(cm, annot=True, fmt='d', cmap='Blues')\n",
    "    plt.title(f'Матрица ошибок — {model_name}')\n",
    "    plt.xlabel('Предсказано')\n",
    "    plt.ylabel('Истинно')\n",
    "    plt.show()\n",
    "\n",
    "for name, model in fitted_models.items():\n",
    "    y_pred = model.predict(X_test)\n",
    "    plot_conf_matrix(y_test, y_pred, name)"
   ]
  },
  {
   "cell_type": "markdown",
   "id": "c7d3275c",
   "metadata": {},
   "source": [
    "### Построение ROC-кривой"
   ]
  },
  {
   "cell_type": "code",
   "execution_count": null,
   "id": "6f3c8c20",
   "metadata": {},
   "outputs": [],
   "source": [
    "plt.figure(figsize=(10, 7))\n",
    "\n",
    "for name, model in fitted_models.items():\n",
    "    if hasattr(model, \"predict_proba\"):\n",
    "        y_proba = model.predict_proba(X_test)[:, 1] \n",
    "        fpr, tpr, _ = roc_curve(y_test, y_proba)\n",
    "        roc_auc = auc(fpr, tpr)\n",
    "        plt.plot(fpr, tpr, label=f'{name} (AUC = {roc_auc:.2f})')\n",
    "\n",
    "plt.plot([0, 1], [0, 1], 'k--')  # диагональная линия — случайное угадывание\n",
    "plt.xlabel('False Positive Rate')\n",
    "plt.ylabel('True Positive Rate')\n",
    "plt.title('ROC-кривые моделей')\n",
    "plt.legend(loc='lower right')\n",
    "plt.grid()\n",
    "plt.show()\n"
   ]
  },
  {
   "cell_type": "markdown",
   "id": "38d2f1c1",
   "metadata": {},
   "source": [
    "## Визуализация нескольких случайных электорнных писем из тестовой выборки с предсказаниями моделей"
   ]
  },
  {
   "cell_type": "code",
   "execution_count": null,
   "id": "2694ee1d",
   "metadata": {},
   "outputs": [],
   "source": [
    "sample_indices = random.sample(range(X_test.shape[0]), 5)\n",
    "\n",
    "for idx in sample_indices:\n",
    "    original_text = df.iloc[idx]['text']\n",
    "    true_label = y_test.iloc[idx]\n",
    "\n",
    "    print(\"=\"*80)\n",
    "    print(f\" Письмо:\\n{original_text[8:]}\")\n",
    "    print(f\" Истинная метка: {'SPAM' if true_label else 'HAM'}\")\n",
    "\n",
    "    for name, model in fitted_models.items():\n",
    "        pred = model.predict(X_test[idx]\n",
    ")[0]\n",
    "        print(f\" Модель {name} предсказала: {'SPAM' if pred else 'HAM'}\")\n"
   ]
  },
  {
   "cell_type": "markdown",
   "id": "f38afa8b",
   "metadata": {},
   "source": [
    "## Вывод"
   ]
  },
  {
   "cell_type": "markdown",
   "id": "ebb6df5c",
   "metadata": {},
   "source": [
    "#### В процессе выполнения проекта я попробовала несколько моделей машинного обучения для классификации писем на спам и не спам. Лучше всего себя показала логистическая регрессия — она выдала самые высокие значения точности и полноты, а также имела наибольшую площадь под ROC-кривой. Вероятно, это связано с тем, что логистическая регрессия хорошо работает с текстовыми признаками, особенно после векторизации. Сравнимые результаты показал метод опорных векторов, но он оказался немного чувствительнее к параметрам и работал медленнее. Модель случайного леса тоже показала хорошие результаты, но, по моим наблюдениям, она иногда выдавала больше ложных срабатываний — то есть принимала обычные письма за спам. Наивный байес, несмотря на простоту, оказался довольно точным и быстрым, но всё же уступал логистической регрессии. Метод k-ближайших соседей сработал хуже всех — скорее всего, из-за того, что текстовые данные плохо подходят для этого метода без специальной подготовки, к тому же он требовал больше времени на предсказания. В целом я увидела, что даже простые модели могут давать хороший результат, если правильно подготовить данные, и что важно не просто запустить алгоритмы, а уметь сравнивать и анализировать их поведение.\n",
    "\n",
    "\n",
    "\n",
    "\n",
    "\n",
    "\n",
    "\n",
    "\n"
   ]
  }
 ],
 "metadata": {
  "kernelspec": {
   "display_name": "Python 3",
   "language": "python",
   "name": "python3"
  },
  "language_info": {
   "codemirror_mode": {
    "name": "ipython",
    "version": 3
   },
   "file_extension": ".py",
   "mimetype": "text/x-python",
   "name": "python",
   "nbconvert_exporter": "python",
   "pygments_lexer": "ipython3",
   "version": "3.11.9"
  }
 },
 "nbformat": 4,
 "nbformat_minor": 5
}
